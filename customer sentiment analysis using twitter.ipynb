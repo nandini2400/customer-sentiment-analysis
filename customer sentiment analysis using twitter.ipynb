{
 "cells": [
  {
   "cell_type": "markdown",
   "id": "a8dc97a7",
   "metadata": {},
   "source": [
    "# 1. Install Required Libraries\n",
    "\n"
   ]
  },
  {
   "cell_type": "code",
   "execution_count": 5,
   "id": "fa717b17",
   "metadata": {},
   "outputs": [
    {
     "name": "stdout",
     "output_type": "stream",
     "text": [
      "Requirement already satisfied: pandas in ./anaconda3/lib/python3.10/site-packages (1.5.3)\n",
      "Requirement already satisfied: numpy in ./anaconda3/lib/python3.10/site-packages (1.23.5)\n",
      "Requirement already satisfied: nltk in ./anaconda3/lib/python3.10/site-packages (3.9.1)\n",
      "Requirement already satisfied: textblob in ./anaconda3/lib/python3.10/site-packages (0.19.0)\n",
      "Requirement already satisfied: matplotlib in ./anaconda3/lib/python3.10/site-packages (3.7.0)\n",
      "Requirement already satisfied: seaborn in ./anaconda3/lib/python3.10/site-packages (0.12.2)\n",
      "Requirement already satisfied: python-dateutil>=2.8.1 in ./anaconda3/lib/python3.10/site-packages (from pandas) (2.8.2)\n",
      "Requirement already satisfied: pytz>=2020.1 in ./anaconda3/lib/python3.10/site-packages (from pandas) (2022.7)\n",
      "Requirement already satisfied: tqdm in ./anaconda3/lib/python3.10/site-packages (from nltk) (4.64.1)\n",
      "Requirement already satisfied: click in ./anaconda3/lib/python3.10/site-packages (from nltk) (8.0.4)\n",
      "Requirement already satisfied: regex>=2021.8.3 in ./anaconda3/lib/python3.10/site-packages (from nltk) (2022.7.9)\n",
      "Requirement already satisfied: joblib in ./anaconda3/lib/python3.10/site-packages (from nltk) (1.1.1)\n",
      "Requirement already satisfied: cycler>=0.10 in ./anaconda3/lib/python3.10/site-packages (from matplotlib) (0.11.0)\n",
      "Requirement already satisfied: packaging>=20.0 in ./anaconda3/lib/python3.10/site-packages (from matplotlib) (22.0)\n",
      "Requirement already satisfied: pillow>=6.2.0 in ./anaconda3/lib/python3.10/site-packages (from matplotlib) (9.4.0)\n",
      "Requirement already satisfied: pyparsing>=2.3.1 in ./anaconda3/lib/python3.10/site-packages (from matplotlib) (3.0.9)\n",
      "Requirement already satisfied: contourpy>=1.0.1 in ./anaconda3/lib/python3.10/site-packages (from matplotlib) (1.0.5)\n",
      "Requirement already satisfied: fonttools>=4.22.0 in ./anaconda3/lib/python3.10/site-packages (from matplotlib) (4.25.0)\n",
      "Requirement already satisfied: kiwisolver>=1.0.1 in ./anaconda3/lib/python3.10/site-packages (from matplotlib) (1.4.4)\n",
      "Requirement already satisfied: six>=1.5 in ./anaconda3/lib/python3.10/site-packages (from python-dateutil>=2.8.1->pandas) (1.16.0)\n"
     ]
    }
   ],
   "source": [
    "!pip install pandas numpy nltk textblob matplotlib seaborn"
   ]
  },
  {
   "cell_type": "markdown",
   "id": "ef54b4ff",
   "metadata": {},
   "source": [
    "# 2. Import Libraries"
   ]
  },
  {
   "cell_type": "code",
   "execution_count": 6,
   "id": "1d7f3b6b",
   "metadata": {},
   "outputs": [],
   "source": [
    "import pandas as pd\n",
    "import numpy as np\n",
    "import re\n",
    "from nltk.corpus import stopwords\n",
    "from nltk.tokenize import word_tokenize\n",
    "from textblob import TextBlob\n",
    "import matplotlib.pyplot as plt\n",
    "import seaborn as sns"
   ]
  },
  {
   "cell_type": "markdown",
   "id": "bd3501c5",
   "metadata": {},
   "source": [
    "# 3. Download NLTK Data"
   ]
  },
  {
   "cell_type": "markdown",
   "id": "26ee3e47",
   "metadata": {},
   "source": [
    "#### If you're using NLTK for text preprocessing, download the required datasets:"
   ]
  },
  {
   "cell_type": "code",
   "execution_count": 7,
   "id": "bf264177",
   "metadata": {},
   "outputs": [
    {
     "name": "stderr",
     "output_type": "stream",
     "text": [
      "[nltk_data] Downloading package punkt to\n",
      "[nltk_data]     /Users/rajanandinialla/nltk_data...\n",
      "[nltk_data]   Package punkt is already up-to-date!\n",
      "[nltk_data] Downloading package stopwords to\n",
      "[nltk_data]     /Users/rajanandinialla/nltk_data...\n",
      "[nltk_data]   Package stopwords is already up-to-date!\n"
     ]
    },
    {
     "data": {
      "text/plain": [
       "True"
      ]
     },
     "execution_count": 7,
     "metadata": {},
     "output_type": "execute_result"
    }
   ],
   "source": [
    "import nltk\n",
    "nltk.download('punkt')\n",
    "nltk.download('stopwords')\n"
   ]
  },
  {
   "cell_type": "markdown",
   "id": "940bbd60",
   "metadata": {},
   "source": [
    "# 4. Load Data"
   ]
  },
  {
   "cell_type": "markdown",
   "id": "f0ec61fe",
   "metadata": {},
   "source": [
    "### Load your dataset into a Pandas DataFrame."
   ]
  },
  {
   "cell_type": "code",
   "execution_count": 8,
   "id": "6b9277b1",
   "metadata": {},
   "outputs": [
    {
     "name": "stdout",
     "output_type": "stream",
     "text": [
      "     ID        Topic Sentiment  \\\n",
      "0  2401  Borderlands  Positive   \n",
      "1  2401  Borderlands  Positive   \n",
      "2  2401  Borderlands  Positive   \n",
      "3  2401  Borderlands  Positive   \n",
      "4  2401  Borderlands  Positive   \n",
      "\n",
      "                                           Tweettext  \n",
      "0  im getting on borderlands and i will murder yo...  \n",
      "1  I am coming to the borders and I will kill you...  \n",
      "2  im getting on borderlands and i will kill you ...  \n",
      "3  im coming on borderlands and i will murder you...  \n",
      "4  im getting on borderlands 2 and i will murder ...  \n"
     ]
    }
   ],
   "source": [
    "# Load data from a CSV file\n",
    "df = pd.read_csv('/Users/rajanandinialla/Downloads/twitter_training.csv')\n",
    "\n",
    "# Display the first few rows\n",
    "print(df.head())"
   ]
  },
  {
   "cell_type": "markdown",
   "id": "66698b16",
   "metadata": {},
   "source": [
    "# 5. Basic Exploration\n"
   ]
  },
  {
   "cell_type": "markdown",
   "id": "f6762463",
   "metadata": {},
   "source": [
    " Perform some basic exploration to understand the dataset.\n",
    " "
   ]
  },
  {
   "cell_type": "markdown",
   "id": "34e2b69c",
   "metadata": {},
   "source": [
    "### Check for Missing Values"
   ]
  },
  {
   "cell_type": "code",
   "execution_count": 9,
   "id": "450ccf4e",
   "metadata": {},
   "outputs": [
    {
     "name": "stdout",
     "output_type": "stream",
     "text": [
      " ID            0\n",
      "Topic          0\n",
      "Sentiment      0\n",
      "Tweettext    686\n",
      "dtype: int64\n"
     ]
    }
   ],
   "source": [
    "print(df.isnull().sum())"
   ]
  },
  {
   "cell_type": "markdown",
   "id": "de2de37f",
   "metadata": {},
   "source": [
    "### Summary Statistics"
   ]
  },
  {
   "cell_type": "code",
   "execution_count": 10,
   "id": "1a5fdef8",
   "metadata": {},
   "outputs": [
    {
     "name": "stdout",
     "output_type": "stream",
     "text": [
      "Negative      22542\n",
      "Positive      20832\n",
      "Neutral       18318\n",
      "Irrelevant    12990\n",
      "Name: Sentiment, dtype: int64\n"
     ]
    }
   ],
   "source": [
    "print(df['Sentiment'].value_counts())"
   ]
  },
  {
   "cell_type": "markdown",
   "id": "28d38d89",
   "metadata": {},
   "source": [
    "### Unique Topics"
   ]
  },
  {
   "cell_type": "code",
   "execution_count": 11,
   "id": "bf6dbcf8",
   "metadata": {},
   "outputs": [
    {
     "name": "stdout",
     "output_type": "stream",
     "text": [
      "Unique topics: ['Borderlands' 'CallOfDutyBlackopsColdWar' 'Amazon' 'Overwatch'\n",
      " 'Xbox(Xseries)' 'NBA2K' 'Dota2' 'PlayStation5(PS5)' 'WorldOfCraft'\n",
      " 'CS-GO' 'Google' 'AssassinsCreed' 'ApexLegends' 'LeagueOfLegends'\n",
      " 'Fortnite' 'Microsoft' 'Hearthstone' 'Battlefield'\n",
      " 'PlayerUnknownsBattlegrounds(PUBG)' 'Verizon' 'HomeDepot' 'FIFA'\n",
      " 'RedDeadRedemption(RDR)' 'CallOfDuty' 'TomClancysRainbowSix' 'Facebook'\n",
      " 'GrandTheftAuto(GTA)' 'MaddenNFL' 'johnson&johnson' 'Cyberpunk2077'\n",
      " 'TomClancysGhostRecon' 'Nvidia']\n"
     ]
    }
   ],
   "source": [
    "print(f\"Unique topics: {df['Topic'].unique()}\")"
   ]
  },
  {
   "cell_type": "markdown",
   "id": "33b27dfe",
   "metadata": {},
   "source": [
    "# 5. Analyze Sentiment Distribution"
   ]
  },
  {
   "cell_type": "markdown",
   "id": "1c3ea777",
   "metadata": {},
   "source": [
    "### Analyze the distribution of sentiments in the dataset."
   ]
  },
  {
   "cell_type": "code",
   "execution_count": 12,
   "id": "4f14dcb4",
   "metadata": {},
   "outputs": [
    {
     "data": {
      "image/png": "[encoded data removed]",
      "text/plain": [
       "<Figure size 800x600 with 1 Axes>"
      ]
     },
     "metadata": {},
     "output_type": "display_data"
    }
   ],
   "source": [
    "\n",
    "# Plot the distribution of sentiments\n",
    "plt.figure(figsize=(8, 6))\n",
    "sns.countplot(x='Sentiment', data=df, palette='viridis')\n",
    "plt.title('Distribution of Sentiments')\n",
    "plt.xlabel('Sentiment')\n",
    "plt.ylabel('Count')\n",
    "plt.show()"
   ]
  },
  {
   "cell_type": "markdown",
   "id": "18142d51",
   "metadata": {},
   "source": [
    "# 6. Preprocess Tweet Text"
   ]
  },
  {
   "cell_type": "markdown",
   "id": "699029dc",
   "metadata": {},
   "source": []
  },
  {
   "cell_type": "code",
   "execution_count": 7,
   "id": "1444f6c8",
   "metadata": {},
   "outputs": [
    {
     "name": "stdout",
     "output_type": "stream",
     "text": [
      "showing info https://raw.githubusercontent.com/nltk/nltk_data/gh-pages/index.xml\n"
     ]
    },
    {
     "data": {
      "text/plain": [
       "True"
      ]
     },
     "execution_count": 7,
     "metadata": {},
     "output_type": "execute_result"
    }
   ],
   "source": [
    "import nltk\n",
    "nltk.download()\n"
   ]
  },
  {
   "cell_type": "code",
   "execution_count": 8,
   "id": "4822b134",
   "metadata": {},
   "outputs": [
    {
     "name": "stderr",
     "output_type": "stream",
     "text": [
      "[nltk_data] Downloading package punkt to\n",
      "[nltk_data]     /Users/rajanandinialla/nltk_data...\n",
      "[nltk_data]   Package punkt is already up-to-date!\n",
      "[nltk_data] Downloading package stopwords to\n",
      "[nltk_data]     /Users/rajanandinialla/nltk_data...\n",
      "[nltk_data]   Package stopwords is already up-to-date!\n",
      "[nltk_data] Downloading package wordnet to\n",
      "[nltk_data]     /Users/rajanandinialla/nltk_data...\n",
      "[nltk_data]   Package wordnet is already up-to-date!\n",
      "[nltk_data] Downloading package averaged_perceptron_tagger to\n",
      "[nltk_data]     /Users/rajanandinialla/nltk_data...\n",
      "[nltk_data]   Package averaged_perceptron_tagger is already up-to-\n",
      "[nltk_data]       date!\n"
     ]
    },
    {
     "data": {
      "text/plain": [
       "True"
      ]
     },
     "execution_count": 8,
     "metadata": {},
     "output_type": "execute_result"
    }
   ],
   "source": [
    "import nltk\n",
    "\n",
    "# Download punkt for tokenization\n",
    "nltk.download('punkt')\n",
    "\n",
    "# Download stopwords for removing common words\n",
    "nltk.download('stopwords')\n",
    "\n",
    "# (Optional) Download wordnet for lemmatization\n",
    "nltk.download('wordnet')\n",
    "\n",
    "# (Optional) Download averaged_perceptron_tagger for POS tagging\n",
    "nltk.download('averaged_perceptron_tagger')"
   ]
  },
  {
   "cell_type": "code",
   "execution_count": 9,
   "id": "bee9127f",
   "metadata": {},
   "outputs": [
    {
     "name": "stdout",
     "output_type": "stream",
     "text": [
      "Punkt installed: /Users/rajanandinialla/nltk_data/tokenizers/punkt\n",
      "Stopwords installed: /Users/rajanandinialla/nltk_data/corpora/stopwords\n"
     ]
    }
   ],
   "source": [
    "# Check if punkt is installed\n",
    "print(\"Punkt installed:\", nltk.data.find('tokenizers/punkt'))\n",
    "\n",
    "# Check if stopwords is installed\n",
    "print(\"Stopwords installed:\", nltk.data.find('corpora/stopwords'))"
   ]
  },
  {
   "cell_type": "markdown",
   "id": "cdb5f6f5",
   "metadata": {},
   "source": [
    "from nltk.tokenize import word_tokenize\n",
    "from nltk.corpus import stopwords\n",
    "\n",
    "# Example text\n",
    "text = \"This is a test sentence for sentiment analysis.\"\n",
    "\n",
    "# Tokenize the text\n",
    "tokens = word_tokenize(text)\n",
    "print(\"Tokens:\", tokens)\n",
    "\n",
    "# Remove stopwords\n",
    "stop_words = set(stopwords.words('english'))\n",
    "filtered_tokens = [word for word in tokens if word.lower() not in stop_words]\n",
    "print(\"Filtered Tokens:\", filtered_tokens)"
   ]
  },
  {
   "cell_type": "markdown",
   "id": "fb1123dd",
   "metadata": {},
   "source": [
    "# Handle Missing Values"
   ]
  },
  {
   "cell_type": "code",
   "execution_count": 18,
   "id": "4edc2d9c",
   "metadata": {},
   "outputs": [
    {
     "name": "stdout",
     "output_type": "stream",
     "text": [
      "0\n",
      "<class 'str'>    73996\n",
      "Name: Tweettext, dtype: int64\n"
     ]
    }
   ],
   "source": [
    "# Check for missing values\n",
    "print(df['Tweettext'].isnull().sum())\n",
    "\n",
    "# Check the data types\n",
    "print(df['Tweettext'].apply(type).value_counts())"
   ]
  },
  {
   "cell_type": "code",
   "execution_count": 19,
   "id": "dc2ecbb3",
   "metadata": {},
   "outputs": [],
   "source": [
    "df = df.dropna(subset=['Tweettext'])"
   ]
  },
  {
   "cell_type": "code",
   "execution_count": 20,
   "id": "e914cd76",
   "metadata": {},
   "outputs": [],
   "source": [
    "df['Tweettext'] = df['Tweettext'].fillna('')"
   ]
  },
  {
   "cell_type": "markdown",
   "id": "85be99a7",
   "metadata": {},
   "source": [
    "### Clean and preprocess the tweet text for further analysis."
   ]
  },
  {
   "cell_type": "code",
   "execution_count": 15,
   "id": "22e84b44",
   "metadata": {},
   "outputs": [],
   "source": [
    "import re\n",
    "from nltk.corpus import stopwords\n",
    "from nltk.tokenize import word_tokenize\n",
    "\n",
    "def preprocess_text(text):\n",
    "    # Handle non-string inputs\n",
    "    if not isinstance(text, str):\n",
    "        return ''\n",
    "    \n",
    "    # Remove special characters\n",
    "    text = re.sub(r'\\W', ' ', text)\n",
    "    # Convert to lowercase\n",
    "    text = text.lower()\n",
    "    # Tokenize text\n",
    "    tokens = word_tokenize(text)\n",
    "    # Remove stopwords\n",
    "    tokens = [word for word in tokens if word not in stopwords.words('english')]\n",
    "    return ' '.join(tokens)"
   ]
  },
  {
   "cell_type": "code",
   "execution_count": 17,
   "id": "4e54c73f",
   "metadata": {},
   "outputs": [
    {
     "name": "stdout",
     "output_type": "stream",
     "text": [
      "                                           Tweettext  \\\n",
      "0  im getting on borderlands and i will murder yo...   \n",
      "1  I am coming to the borders and I will kill you...   \n",
      "2  im getting on borderlands and i will kill you ...   \n",
      "3  im coming on borderlands and i will murder you...   \n",
      "4  im getting on borderlands 2 and i will murder ...   \n",
      "\n",
      "                       Cleanedtext  \n",
      "0    im getting borderlands murder  \n",
      "1              coming borders kill  \n",
      "2      im getting borderlands kill  \n",
      "3     im coming borderlands murder  \n",
      "4  im getting borderlands 2 murder  \n"
     ]
    }
   ],
   "source": [
    "df['Cleanedtext'] = df['Tweettext'].apply(preprocess_text)\n",
    "\n",
    "# Display the cleaned text\n",
    "print(df[['Tweettext', 'Cleanedtext']].head())"
   ]
  },
  {
   "cell_type": "markdown",
   "id": "338dbf37",
   "metadata": {},
   "source": [
    "# Perform Sentiment Analysis"
   ]
  },
  {
   "cell_type": "markdown",
   "id": "eb29ba6c",
   "metadata": {},
   "source": [
    "## Calculate Sentiment Scores\n"
   ]
  },
  {
   "cell_type": "code",
   "execution_count": 36,
   "id": "843893f9",
   "metadata": {},
   "outputs": [
    {
     "name": "stdout",
     "output_type": "stream",
     "text": [
      "                       Cleanedtext  Sentiment\n",
      "0    im getting borderlands murder        0.0\n",
      "1              coming borders kill        0.0\n",
      "2      im getting borderlands kill        0.0\n",
      "3     im coming borderlands murder        0.0\n",
      "4  im getting borderlands 2 murder        0.0\n",
      "                                             Cleanedtext  Sentiment\n",
      "74677  realized windows partition mac like 6 years be...       -0.4\n",
      "74678  realized mac window partition 6 years behind n...       -0.4\n",
      "74679  realized windows partition mac 6 years behind ...       -0.4\n",
      "74680  realized windows partition mac like 6 years be...       -0.5\n",
      "74681  like windows partition mac like 6 years behind...       -0.4\n"
     ]
    }
   ],
   "source": [
    "from textblob import TextBlob\n",
    "\n",
    "def get_sentiment(text):\n",
    "    analysis = TextBlob(text)\n",
    "    return analysis.sentiment.polarity\n",
    "\n",
    "df['Sentiment'] = df['Cleanedtext'].apply(get_sentiment)\n",
    "print(df[['Cleanedtext', 'Sentiment']].head())\n",
    "print(df[['Cleanedtext', 'Sentiment']].tail())"
   ]
  },
  {
   "cell_type": "code",
   "execution_count": 22,
   "id": "ce91ebdd",
   "metadata": {},
   "outputs": [
    {
     "data": {
      "image/png": "[encoded data removed]",
      "text/plain": [
       "<Figure size 640x480 with 1 Axes>"
      ]
     },
     "metadata": {},
     "output_type": "display_data"
    }
   ],
   "source": [
    "import matplotlib.pyplot as plt\n",
    "import seaborn as sns\n",
    "\n",
    "# Plot sentiment distribution\n",
    "sns.countplot(x='Sentiment', data=df)\n",
    "plt.title('Sentiment Distribution')\n",
    "plt.show()"
   ]
  },
  {
   "cell_type": "markdown",
   "id": "c3165769",
   "metadata": {},
   "source": [
    "# Use VADER for Sentiment Analysis\n",
    "\n",
    "VADER (Valence Aware Dictionary and sEntiment Reasoner) is better suited for analyzing sentiment in social media text, as it handles slang, emoticons, and informal language well."
   ]
  },
  {
   "cell_type": "code",
   "execution_count": 24,
   "id": "098f47dc",
   "metadata": {},
   "outputs": [
    {
     "name": "stdout",
     "output_type": "stream",
     "text": [
      "Collecting vaderSentiment\n",
      "  Downloading vaderSentiment-3.3.2-py2.py3-none-any.whl (125 kB)\n",
      "\u001b[2K     \u001b[90m━━━━━━━━━━━━━━━━━━━━━━━━━━━━━━━━━━━━━━━\u001b[0m \u001b[32m126.0/126.0 kB\u001b[0m \u001b[31m6.7 MB/s\u001b[0m eta \u001b[36m0:00:00\u001b[0m\n",
      "\u001b[?25hRequirement already satisfied: requests in ./anaconda3/lib/python3.10/site-packages (from vaderSentiment) (2.28.1)\n",
      "Requirement already satisfied: idna<4,>=2.5 in ./anaconda3/lib/python3.10/site-packages (from requests->vaderSentiment) (3.4)\n",
      "Requirement already satisfied: urllib3<1.27,>=1.21.1 in ./anaconda3/lib/python3.10/site-packages (from requests->vaderSentiment) (1.26.14)\n",
      "Requirement already satisfied: charset-normalizer<3,>=2 in ./anaconda3/lib/python3.10/site-packages (from requests->vaderSentiment) (2.0.4)\n",
      "Requirement already satisfied: certifi>=2017.4.17 in ./anaconda3/lib/python3.10/site-packages (from requests->vaderSentiment) (2022.12.7)\n",
      "Installing collected packages: vaderSentiment\n",
      "Successfully installed vaderSentiment-3.3.2\n"
     ]
    }
   ],
   "source": [
    "!pip install vaderSentiment"
   ]
  },
  {
   "cell_type": "markdown",
   "id": "c9d15565",
   "metadata": {},
   "source": [
    "## Apply VADER Sentiment Analysis"
   ]
  },
  {
   "cell_type": "code",
   "execution_count": 28,
   "id": "e07ead6f",
   "metadata": {},
   "outputs": [
    {
     "name": "stdout",
     "output_type": "stream",
     "text": [
      "                                             Cleanedtext  Sentiment\n",
      "74677  realized windows partition mac like 6 years be...     0.3612\n",
      "74678  realized mac window partition 6 years behind n...     0.0000\n",
      "74679  realized windows partition mac 6 years behind ...     0.0000\n",
      "74680  realized windows partition mac like 6 years be...     0.3612\n",
      "74681  like windows partition mac like 6 years behind...     0.6124\n"
     ]
    }
   ],
   "source": [
    "from vaderSentiment.vaderSentiment import SentimentIntensityAnalyzer\n",
    "\n",
    "# Initialize VADER\n",
    "analyzer = SentimentIntensityAnalyzer()\n",
    "\n",
    "# Function to get sentiment score using VADER\n",
    "def get_vader_sentiment(text):\n",
    "    scores = analyzer.polarity_scores(text)\n",
    "    return scores['compound']\n",
    "\n",
    "# Apply VADER sentiment analysis\n",
    "df['Sentiment'] = df['Cleanedtext'].apply(get_vader_sentiment)\n",
    "\n",
    "# Display the updated DataFrame\n",
    "print(df[['Cleanedtext', 'Sentiment']].tail())"
   ]
  },
  {
   "cell_type": "markdown",
   "id": "93fa6f47",
   "metadata": {},
   "source": [
    "## Categorize Sentiment"
   ]
  },
  {
   "cell_type": "code",
   "execution_count": 26,
   "id": "5ff45e30",
   "metadata": {},
   "outputs": [
    {
     "name": "stdout",
     "output_type": "stream",
     "text": [
      "                       Cleanedtext  Sentiment SentimentCategory\n",
      "0    im getting borderlands murder    -0.6908          Negative\n",
      "1              coming borders kill    -0.6908          Negative\n",
      "2      im getting borderlands kill    -0.6908          Negative\n",
      "3     im coming borderlands murder    -0.6908          Negative\n",
      "4  im getting borderlands 2 murder    -0.6908          Negative\n"
     ]
    }
   ],
   "source": [
    "# Function to categorize sentiment\n",
    "def categorize_sentiment(score):\n",
    "    if score >= 0.05:\n",
    "        return 'Positive'\n",
    "    elif score <= -0.05:\n",
    "        return 'Negative'\n",
    "    else:\n",
    "        return 'Neutral'\n",
    "\n",
    "# Apply categorization\n",
    "df['SentimentCategory'] = df['Sentiment'].apply(categorize_sentiment)\n",
    "\n",
    "# Display the updated DataFrame\n",
    "print(df[['Cleanedtext', 'Sentiment', 'SentimentCategory']].head())"
   ]
  },
  {
   "cell_type": "code",
   "execution_count": 27,
   "id": "1911139f",
   "metadata": {},
   "outputs": [
    {
     "name": "stdout",
     "output_type": "stream",
     "text": [
      "74677    realized windows partition mac like 6 years be...\n",
      "74678    realized mac window partition 6 years behind n...\n",
      "74679    realized windows partition mac 6 years behind ...\n",
      "74680    realized windows partition mac like 6 years be...\n",
      "74681    like windows partition mac like 6 years behind...\n",
      "Name: Cleanedtext, dtype: object\n"
     ]
    }
   ],
   "source": [
    "# Display the last 5 rows of the 'Cleanedtext' column\n",
    "print(df['Cleanedtext'].tail())"
   ]
  },
  {
   "cell_type": "code",
   "execution_count": 29,
   "id": "fb9e35d9",
   "metadata": {},
   "outputs": [
    {
     "data": {
      "image/png": "[encoded data removed]",
      "text/plain": [
       "<Figure size 800x600 with 1 Axes>"
      ]
     },
     "metadata": {},
     "output_type": "display_data"
    }
   ],
   "source": [
    "# Plot sentiment distribution\n",
    "plt.figure(figsize=(8, 6))\n",
    "sns.countplot(x='SentimentCategory', data=df, palette='viridis')\n",
    "plt.title('Sentiment Distribution')\n",
    "plt.xlabel('Sentiment Category')\n",
    "plt.ylabel('Count')\n",
    "plt.show()\n",
    "\n",
    "# Save the results\n",
    "df.to_csv('sentiment_analysis_results.csv', index=False)"
   ]
  },
  {
   "cell_type": "code",
   "execution_count": 33,
   "id": "9c805f77",
   "metadata": {},
   "outputs": [],
   "source": [
    "df.to_csv('final_sentiment_analysis_results.csv', index=False)"
   ]
  },
  {
   "cell_type": "code",
   "execution_count": null,
   "id": "4fb20e4e",
   "metadata": {},
   "outputs": [],
   "source": []
  }
 ],
 "metadata": {
  "kernelspec": {
   "display_name": "Python 3 (ipykernel)",
   "language": "python",
   "name": "python3"
  },
  "language_info": {
   "codemirror_mode": {
    "name": "ipython",
    "version": 3
   },
   "file_extension": ".py",
   "mimetype": "text/x-python",
   "name": "python",
   "nbconvert_exporter": "python",
   "pygments_lexer": "ipython3",
   "version": "3.10.9"
  }
 },
 "nbformat": 4,
 "nbformat_minor": 5
}
